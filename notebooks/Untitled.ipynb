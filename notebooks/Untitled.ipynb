{
 "cells": [
  {
   "cell_type": "code",
   "execution_count": 80,
   "metadata": {},
   "outputs": [],
   "source": [
    "# def pi(q, p1, p2, fee=0.004):\n",
    "#     \"\"\"\n",
    "#     q: quantitiy (USD/GBP)\n",
    "#     p1, p2: from, to\n",
    "#     fee: already considers %, e.g. 0.004 == 0.4%\n",
    "    \n",
    "#     Subtract fee each way.\n",
    "#     \"\"\"\n",
    "#     q -= fee\n",
    "#     return q * (p2/p1 - 1) - fee\n",
    "\n",
    "\n",
    "# def pi(q, p1, p2, fee=0.004):\n",
    "#     \"\"\"\n",
    "#     q: quantitiy (USD/GBP)\n",
    "#     p1, p2: from, to\n",
    "#     fee: already considers %, e.g. 0.004 == 0.4%\n",
    "    \n",
    "#     Fees: (1-fee)*q in and out of the position.\n",
    "#     \"\"\"\n",
    "#     q -= fee\n",
    "#     return (1 - fee) * q * (p2/p1 - 1)"
   ]
  },
  {
   "cell_type": "code",
   "execution_count": 85,
   "metadata": {},
   "outputs": [],
   "source": [
    "fee_in = 100 - 0.004"
   ]
  },
  {
   "cell_type": "code",
   "execution_count": null,
   "metadata": {},
   "outputs": [],
   "source": [
    "fee_out = p2 * 0.004"
   ]
  },
  {
   "cell_type": "code",
   "execution_count": 86,
   "metadata": {},
   "outputs": [],
   "source": [
    "\"\"\"\n",
    "buy q1 at p1 per token\n",
    "\n",
    "--> get x = (q1 - fee) / p1 tokens\n",
    "\n",
    "sell: x tokens at p2 per token --> q2 = (x * p2) - fee\n",
    "\n",
    "so:\n",
    "\n",
    "q2 = ((q1 - fee) / p1) * p2 - fee\n",
    "\n",
    "q2 = (p2/p1) * (q1 - fee) - fee\n",
    "\n",
    "\n",
    "pi = q2 - q1\n",
    "   = (p2/p1) * (q1 - fee) - fee - q1\n",
    "\n",
    "\"\"\"\n",
    "def pi(q1, p1, p2, fee=0.004):\n",
    "    \"\"\"\n",
    "    q: quantitiy (USD/GBP)\n",
    "    p1, p2: from, to\n",
    "    fee: already considers %, e.g. 0.004 == 0.4%\n",
    "    \n",
    "    Fees: (1-fee)*q in and out of the position.\n",
    "    \"\"\"\n",
    "    q2 = (p2/p1) * (q1 - fee) - fee\n",
    "    return q2 - q1"
   ]
  },
  {
   "cell_type": "code",
   "execution_count": 89,
   "metadata": {},
   "outputs": [
    {
     "data": {
      "text/plain": [
       "2.709290243427091"
      ]
     },
     "execution_count": 89,
     "metadata": {},
     "output_type": "execute_result"
    }
   ],
   "source": [
    "# pi(50, 3180, 3240)\n",
    "pi(50, 3129.89, 3300)"
   ]
  },
  {
   "cell_type": "code",
   "execution_count": 59,
   "metadata": {},
   "outputs": [
    {
     "data": {
      "text/plain": [
       "0.10848805228757763"
      ]
     },
     "execution_count": 59,
     "metadata": {},
     "output_type": "execute_result"
    }
   ],
   "source": [
    "pi(50, 45900, 46000)"
   ]
  },
  {
   "cell_type": "code",
   "execution_count": 44,
   "metadata": {},
   "outputs": [],
   "source": [
    "# DOGE (avoid?)\n",
    "# pi(50, 0.24445, 0.24565)"
   ]
  },
  {
   "cell_type": "code",
   "execution_count": 46,
   "metadata": {},
   "outputs": [
    {
     "data": {
      "text/plain": [
       "0.6901547850208042"
      ]
     },
     "execution_count": 46,
     "metadata": {},
     "output_type": "execute_result"
    }
   ],
   "source": [
    "# ETH_BTC\n",
    "# 0.0728 / 0.0729\n",
    "x = pi(5, 0.0721, 0.0722)\n",
    "100*x"
   ]
  },
  {
   "cell_type": "code",
   "execution_count": 60,
   "metadata": {},
   "outputs": [
    {
     "data": {
      "text/plain": [
       "6.07247000000001"
      ]
     },
     "execution_count": 60,
     "metadata": {},
     "output_type": "execute_result"
    }
   ],
   "source": [
    "-49.99 + 50.22 - 49.99 + 50.28 - 99.97 + 100.90 - 49.99950 + 50.05197 - 99.98 + 102.12 - 99.97 + 102.40"
   ]
  },
  {
   "cell_type": "code",
   "execution_count": 63,
   "metadata": {},
   "outputs": [],
   "source": [
    "x = 1 - 0.004\n",
    "\n",
    "y = -49.99 + 50.22 * x - 49.99 + 50.28 * x - 99.97 + 100.90 * x - 49.99950 + 50.05197 * x - 99.98 + 102.12 * x - 99.97 + 102.40 * x"
   ]
  },
  {
   "cell_type": "code",
   "execution_count": null,
   "metadata": {},
   "outputs": [],
   "source": []
  }
 ],
 "metadata": {
  "kernelspec": {
   "display_name": "Python 3",
   "language": "python",
   "name": "python3"
  },
  "language_info": {
   "codemirror_mode": {
    "name": "ipython",
    "version": 3
   },
   "file_extension": ".py",
   "mimetype": "text/x-python",
   "name": "python",
   "nbconvert_exporter": "python",
   "pygments_lexer": "ipython3",
   "version": "3.7.4"
  }
 },
 "nbformat": 4,
 "nbformat_minor": 4
}
