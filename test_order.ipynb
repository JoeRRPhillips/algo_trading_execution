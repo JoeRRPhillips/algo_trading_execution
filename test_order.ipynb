{
 "cells": [
  {
   "cell_type": "code",
   "execution_count": 3,
   "metadata": {},
   "outputs": [],
   "source": [
    "import hashlib\n",
    "import hmac\n",
    "import json\n",
    "import requests\n",
    "import time\n",
    "from typing import Dict\n",
    "\n",
    "import utils\n",
    "from _config import API_KEY, SECRET_KEY\n",
    "\n",
    "\n",
    "debug = False\n",
    "instrument_name = \"DOGE_USDT\"\n",
    "currency = \"DOGE\""
   ]
  },
  {
   "cell_type": "code",
   "execution_count": 64,
   "metadata": {},
   "outputs": [
    {
     "data": {
      "text/plain": [
       "(200,\n",
       " {'id': 100,\n",
       "  'method': 'private/get-account-summary',\n",
       "  'code': 0,\n",
       "  'result': {'accounts': [{'balance': 0.00125496,\n",
       "     'available': 0.00125496,\n",
       "     'order': 0,\n",
       "     'stake': 0,\n",
       "     'currency': 'ETH'}]}})"
      ]
     },
     "execution_count": 64,
     "metadata": {},
     "output_type": "execute_result"
    }
   ],
   "source": [
    "# Test correct public & private keys by sending private request\n",
    "response_status, response_content = utils.post_request(\n",
    "    method=\"private/get-account-summary\",\n",
    "    req_id=100,\n",
    "    params={\n",
    "#         \"currency\": \"USDT\",\n",
    "        \"currency\": \"ETH\",\n",
    "    },\n",
    "    debug=debug,\n",
    ")\n",
    "\n",
    "response_status, response_content"
   ]
  },
  {
   "cell_type": "code",
   "execution_count": 33,
   "metadata": {},
   "outputs": [
    {
     "data": {
      "text/plain": [
       "(200,\n",
       " {'id': 100,\n",
       "  'method': 'private/get-account-summary',\n",
       "  'code': 0,\n",
       "  'result': {'accounts': [{'balance': 0,\n",
       "     'available': 0,\n",
       "     'order': 0,\n",
       "     'stake': 0,\n",
       "     'currency': 'ETH'}]}})"
      ]
     },
     "execution_count": 33,
     "metadata": {},
     "output_type": "execute_result"
    }
   ],
   "source": [
    "# Test DOGE balance\n",
    "response_status, response_content = utils.post_request(\n",
    "    method=\"private/get-account-summary\",\n",
    "    req_id=100,\n",
    "    params={\n",
    "#         \"currency\": \"DOGE\",\n",
    "        \"currency\": \"ETH\",\n",
    "    },\n",
    "    debug=debug,\n",
    ")\n",
    "\n",
    "response_status, response_content"
   ]
  },
  {
   "cell_type": "code",
   "execution_count": 77,
   "metadata": {},
   "outputs": [],
   "source": [
    "instrument_name = \"DOGE_USDT\"\n",
    "currency = \"DOGE\"\n",
    "buy_price = 0.30\n",
    "sell_price = 0.31\n",
    "\n",
    "\n",
    "# instrument_name = \"ETH_USDT\"\n",
    "# currency = \"USDT\"\n",
    "# buy_price = 3926.00\n",
    "# sell_price = 3934.00\n",
    "# buy_quantity = 2\n",
    "# sell_quantity = 1"
   ]
  },
  {
   "cell_type": "code",
   "execution_count": 39,
   "metadata": {},
   "outputs": [],
   "source": [
    "buy_response_status, buy_response_content = utils.post_request(\n",
    "    method=\"private/create-order\",\n",
    "    req_id=17,\n",
    "    params={\n",
    "        \"instrument_name\": instrument_name,\n",
    "        \"side\": \"BUY\",\n",
    "        \"type\": \"TAKE_PROFIT_LIMIT\",\n",
    "        \"quantity\": buy_quantity,\n",
    "        \"trigger_price\": buy_price,\n",
    "        \"price\": buy_price,\n",
    "        \"client_oid\": \"buy_take_profit_order_test_1\",\n",
    "        \"time_in_force\": \"GOOD_TILL_CANCEL\",\n",
    "    },\n",
    "    debug=debug,\n",
    ")"
   ]
  },
  {
   "cell_type": "code",
   "execution_count": 40,
   "metadata": {},
   "outputs": [
    {
     "data": {
      "text/plain": [
       "(400,\n",
       " {'id': 17,\n",
       "  'method': 'private/create-order',\n",
       "  'code': 30006,\n",
       "  'message': 'MIN_PRICE_VIOLATED'})"
      ]
     },
     "execution_count": 40,
     "metadata": {},
     "output_type": "execute_result"
    }
   ],
   "source": [
    "buy_response_status, buy_response_content"
   ]
  },
  {
   "cell_type": "code",
   "execution_count": 94,
   "metadata": {},
   "outputs": [],
   "source": [
    "# sell_response_status, sell_response_content = utils.post_request(\n",
    "#     method=\"private/create-order\",\n",
    "#     req_id=16,\n",
    "#     params={\n",
    "#         \"instrument_name\": instrument_name,\n",
    "#         \"side\": \"SELL\",\n",
    "#         \"type\": \"STOP_LIMIT\",\n",
    "#         \"quantity\": sell_quantity,\n",
    "#         \"trigger_price\": sell_price,\n",
    "#         \"price\": sell_price,\n",
    "#         \"client_oid\": \"sell_take_profit_order_test_0\",\n",
    "#         \"time_in_force\": \"GOOD_TILL_CANCEL\",\n",
    "#     },\n",
    "#     debug=debug,\n",
    "# )\n",
    "\n",
    "# sell_response_status, sell_response_content = utils.post_request(\n",
    "#     method=\"private/create-order\",\n",
    "#     req_id=18,\n",
    "#     params={\n",
    "#         \"instrument_name\": instrument_name,\n",
    "#         \"side\": \"SELL\",\n",
    "#         \"type\": \"TAKE_PROFIT_LIMIT\",\n",
    "#         \"quantity\": 0.00025,\n",
    "#         \"trigger_price\": 3935.00,\n",
    "#         \"price\": 3935.00,\n",
    "#         \"client_oid\": \"sell_take_profit_order_test_2\",\n",
    "#         \"time_in_force\": \"GOOD_TILL_CANCEL\",\n",
    "# #         \"fee_currency\": \"USDT\",\n",
    "#     },\n",
    "#     debug=debug,\n",
    "# )\n",
    "\n",
    "sell_response_status, sell_response_content = utils.post_request(\n",
    "    method=\"private/create-order\",\n",
    "    req_id=19,\n",
    "    params={\n",
    "        \"instrument_name\": instrument_name,\n",
    "        \"side\": \"SELL\",\n",
    "        \"type\": \"TAKE_PROFIT_LIMIT\",\n",
    "        \"quantity\": str(0.1),\n",
    "        \"trigger_price\": str(sell_price),\n",
    "        \"price\": str(sell_price),\n",
    "        \"client_oid\": \"sell_take_profit_order_test_2\",\n",
    "        \"time_in_force\": \"GOOD_TILL_CANCEL\",\n",
    "    },\n",
    "    debug=debug,\n",
    ")"
   ]
  },
  {
   "cell_type": "code",
   "execution_count": 95,
   "metadata": {},
   "outputs": [
    {
     "data": {
      "text/plain": [
       "(200,\n",
       " {'id': 19,\n",
       "  'method': 'private/create-order',\n",
       "  'code': 0,\n",
       "  'result': {'order_id': '1783982591240462048',\n",
       "   'client_oid': 'sell_take_profit_order_test_2'}})"
      ]
     },
     "execution_count": 95,
     "metadata": {},
     "output_type": "execute_result"
    }
   ],
   "source": [
    "sell_response_status, sell_response_content"
   ]
  },
  {
   "cell_type": "code",
   "execution_count": 61,
   "metadata": {},
   "outputs": [],
   "source": [
    "sell_market_status, sell_market_content = utils.post_request(\n",
    "    method=\"private/create-order\",\n",
    "    req_id=100,\n",
    "    params={\n",
    "        \"instrument_name\": instrument_name,\n",
    "        \"side\": \"SELL\",\n",
    "        \"type\": \"MARKET\",\n",
    "        \"quantity\": 1,\n",
    "    },\n",
    "    debug=debug,\n",
    ")"
   ]
  },
  {
   "cell_type": "code",
   "execution_count": 62,
   "metadata": {},
   "outputs": [
    {
     "data": {
      "text/plain": [
       "(200,\n",
       " {'id': 100,\n",
       "  'method': 'private/create-order',\n",
       "  'code': 0,\n",
       "  'result': {'order_id': '1782527768600076546'}})"
      ]
     },
     "execution_count": 62,
     "metadata": {},
     "output_type": "execute_result"
    }
   ],
   "source": [
    "sell_market_status, sell_market_content"
   ]
  },
  {
   "cell_type": "code",
   "execution_count": 80,
   "metadata": {},
   "outputs": [
    {
     "data": {
      "text/plain": [
       "(200,\n",
       " {'id': 12,\n",
       "  'method': 'private/get-open-orders',\n",
       "  'code': 0,\n",
       "  'result': {'count': 1,\n",
       "   'order_list': [{'status': 'PENDING',\n",
       "     'side': 'BUY',\n",
       "     'price': 0.3,\n",
       "     'quantity': 1.0,\n",
       "     'order_id': '1782462052091610788',\n",
       "     'client_oid': 'buy_take_profit_order_test_0',\n",
       "     'create_time': 1630958308720,\n",
       "     'update_time': 1630958308722,\n",
       "     'type': 'TAKE_PROFIT_LIMIT',\n",
       "     'instrument_name': 'DOGE_USDT',\n",
       "     'avg_price': 0.0,\n",
       "     'cumulative_quantity': 0.0,\n",
       "     'cumulative_value': 0.0,\n",
       "     'fee_currency': 'DOGE',\n",
       "     'exec_inst': '',\n",
       "     'time_in_force': 'GOOD_TILL_CANCEL',\n",
       "     'trigger_price': 0.3}]}})"
      ]
     },
     "execution_count": 80,
     "metadata": {},
     "output_type": "execute_result"
    }
   ],
   "source": [
    "open_orders_status, open_orders_content = utils.post_request(\n",
    "    method=\"private/get-open-orders\",\n",
    "    req_id=12,\n",
    "    params={\n",
    "#         \"instrument_name\": instrument_name,\n",
    "    },\n",
    "    debug=debug,\n",
    ")\n",
    "open_orders_status, open_orders_content"
   ]
  },
  {
   "cell_type": "code",
   "execution_count": 96,
   "metadata": {},
   "outputs": [
    {
     "data": {
      "text/plain": [
       "[{'status': 'PENDING',\n",
       "  'side': 'SELL',\n",
       "  'price': 0.31,\n",
       "  'quantity': 0.1,\n",
       "  'order_id': '1783982591240462048',\n",
       "  'client_oid': 'sell_take_profit_order_test_2',\n",
       "  'create_time': 1631003624318,\n",
       "  'update_time': 1631003624319,\n",
       "  'type': 'TAKE_PROFIT_LIMIT',\n",
       "  'instrument_name': 'DOGE_USDT',\n",
       "  'avg_price': 0.0,\n",
       "  'cumulative_quantity': 0.0,\n",
       "  'cumulative_value': 0.0,\n",
       "  'fee_currency': 'USDT',\n",
       "  'exec_inst': '',\n",
       "  'time_in_force': 'GOOD_TILL_CANCEL',\n",
       "  'trigger_price': 0.31},\n",
       " {'status': 'REJECTED',\n",
       "  'side': 'SELL',\n",
       "  'price': 0.31,\n",
       "  'quantity': 1.0,\n",
       "  'reason': 20002,\n",
       "  'order_id': '1783975787461921185',\n",
       "  'client_oid': 'sell_take_profit_order_test_1',\n",
       "  'create_time': 1631003421555,\n",
       "  'update_time': 1631003421555,\n",
       "  'type': 'TAKE_PROFIT_LIMIT',\n",
       "  'instrument_name': 'DOGE_USDT',\n",
       "  'avg_price': 0.0,\n",
       "  'cumulative_quantity': 0,\n",
       "  'cumulative_value': 0,\n",
       "  'fee_currency': '',\n",
       "  'exec_inst': '',\n",
       "  'time_in_force': 'GOOD_TILL_CANCEL',\n",
       "  'trigger_price': 0.31},\n",
       " {'status': 'REJECTED',\n",
       "  'side': 'SELL',\n",
       "  'price': 0.31,\n",
       "  'quantity': 1.0,\n",
       "  'reason': 20002,\n",
       "  'order_id': '1782568772563874242',\n",
       "  'client_oid': 'sell_take_profit_order_test_1',\n",
       "  'create_time': 1630961489239,\n",
       "  'update_time': 1630961489239,\n",
       "  'type': 'TAKE_PROFIT_LIMIT',\n",
       "  'instrument_name': 'DOGE_USDT',\n",
       "  'avg_price': 0.0,\n",
       "  'cumulative_quantity': 0,\n",
       "  'cumulative_value': 0,\n",
       "  'fee_currency': '',\n",
       "  'exec_inst': '',\n",
       "  'time_in_force': 'GOOD_TILL_CANCEL',\n",
       "  'trigger_price': 0.31},\n",
       " {'status': 'REJECTED',\n",
       "  'side': 'SELL',\n",
       "  'price': 0.31,\n",
       "  'quantity': 1.0,\n",
       "  'reason': 20002,\n",
       "  'order_id': '1782479738688038980',\n",
       "  'client_oid': 'sell_take_profit_order_test_0',\n",
       "  'create_time': 1630958835823,\n",
       "  'update_time': 1630958835823,\n",
       "  'type': 'STOP_LIMIT',\n",
       "  'instrument_name': 'DOGE_USDT',\n",
       "  'avg_price': 0.0,\n",
       "  'cumulative_quantity': 0,\n",
       "  'cumulative_value': 0,\n",
       "  'fee_currency': '',\n",
       "  'exec_inst': '',\n",
       "  'time_in_force': 'GOOD_TILL_CANCEL',\n",
       "  'trigger_price': 0.31},\n",
       " {'status': 'REJECTED',\n",
       "  'side': 'SELL',\n",
       "  'price': 0.31,\n",
       "  'quantity': 1.0,\n",
       "  'reason': 20002,\n",
       "  'order_id': '1782464568688646336',\n",
       "  'client_oid': 'sell_take_profit_order_test_0',\n",
       "  'create_time': 1630958383722,\n",
       "  'update_time': 1630958383722,\n",
       "  'type': 'TAKE_PROFIT_LIMIT',\n",
       "  'instrument_name': 'DOGE_USDT',\n",
       "  'avg_price': 0.0,\n",
       "  'cumulative_quantity': 0,\n",
       "  'cumulative_value': 0,\n",
       "  'fee_currency': '',\n",
       "  'exec_inst': '',\n",
       "  'time_in_force': 'GOOD_TILL_CANCEL',\n",
       "  'trigger_price': 0.31},\n",
       " {'status': 'FILLED',\n",
       "  'side': 'BUY',\n",
       "  'price': 0.3,\n",
       "  'quantity': 1.0,\n",
       "  'order_id': '1782462052091610788',\n",
       "  'client_oid': 'buy_take_profit_order_test_0',\n",
       "  'create_time': 1630958308720,\n",
       "  'update_time': 1630997980241,\n",
       "  'type': 'TAKE_PROFIT_LIMIT',\n",
       "  'instrument_name': 'DOGE_USDT',\n",
       "  'avg_price': 0.3,\n",
       "  'cumulative_quantity': 1.0,\n",
       "  'cumulative_value': 0.3,\n",
       "  'fee_currency': 'DOGE',\n",
       "  'exec_inst': '',\n",
       "  'time_in_force': 'GOOD_TILL_CANCEL',\n",
       "  'trigger_price': 0.3}]"
      ]
     },
     "execution_count": 96,
     "metadata": {},
     "output_type": "execute_result"
    }
   ],
   "source": [
    "order_history_status, order_history_content = utils.post_request(\n",
    "    method=\"private/get-order-history\",\n",
    "    req_id=12,\n",
    "    params={\n",
    "#         \"instrument_name\": instrument_name,\n",
    "    },\n",
    "    debug=debug,\n",
    ")\n",
    "# order_history_status, order_history_content\n",
    "\n",
    "order_list = order_history_content[\"result\"][\"order_list\"]\n",
    "list(filter(lambda item: item[\"instrument_name\"] == \"DOGE_USDT\", order_list))"
   ]
  },
  {
   "cell_type": "code",
   "execution_count": 85,
   "metadata": {},
   "outputs": [],
   "source": []
  },
  {
   "cell_type": "code",
   "execution_count": 93,
   "metadata": {},
   "outputs": [
    {
     "data": {
      "text/plain": [
       "[{'status': 'REJECTED',\n",
       "  'side': 'SELL',\n",
       "  'price': 0.31,\n",
       "  'quantity': 1.0,\n",
       "  'reason': 20002,\n",
       "  'order_id': '1782568772563874242',\n",
       "  'client_oid': 'sell_take_profit_order_test_1',\n",
       "  'create_time': 1630961489239,\n",
       "  'update_time': 1630961489239,\n",
       "  'type': 'TAKE_PROFIT_LIMIT',\n",
       "  'instrument_name': 'DOGE_USDT',\n",
       "  'avg_price': 0.0,\n",
       "  'cumulative_quantity': 0,\n",
       "  'cumulative_value': 0,\n",
       "  'fee_currency': '',\n",
       "  'exec_inst': '',\n",
       "  'time_in_force': 'GOOD_TILL_CANCEL',\n",
       "  'trigger_price': 0.31},\n",
       " {'status': 'REJECTED',\n",
       "  'side': 'SELL',\n",
       "  'price': 0.31,\n",
       "  'quantity': 1.0,\n",
       "  'reason': 20002,\n",
       "  'order_id': '1782479738688038980',\n",
       "  'client_oid': 'sell_take_profit_order_test_0',\n",
       "  'create_time': 1630958835823,\n",
       "  'update_time': 1630958835823,\n",
       "  'type': 'STOP_LIMIT',\n",
       "  'instrument_name': 'DOGE_USDT',\n",
       "  'avg_price': 0.0,\n",
       "  'cumulative_quantity': 0,\n",
       "  'cumulative_value': 0,\n",
       "  'fee_currency': '',\n",
       "  'exec_inst': '',\n",
       "  'time_in_force': 'GOOD_TILL_CANCEL',\n",
       "  'trigger_price': 0.31},\n",
       " {'status': 'REJECTED',\n",
       "  'side': 'SELL',\n",
       "  'price': 0.31,\n",
       "  'quantity': 1.0,\n",
       "  'reason': 20002,\n",
       "  'order_id': '1782464568688646336',\n",
       "  'client_oid': 'sell_take_profit_order_test_0',\n",
       "  'create_time': 1630958383722,\n",
       "  'update_time': 1630958383722,\n",
       "  'type': 'TAKE_PROFIT_LIMIT',\n",
       "  'instrument_name': 'DOGE_USDT',\n",
       "  'avg_price': 0.0,\n",
       "  'cumulative_quantity': 0,\n",
       "  'cumulative_value': 0,\n",
       "  'fee_currency': '',\n",
       "  'exec_inst': '',\n",
       "  'time_in_force': 'GOOD_TILL_CANCEL',\n",
       "  'trigger_price': 0.31},\n",
       " {'status': 'PENDING',\n",
       "  'side': 'BUY',\n",
       "  'price': 0.3,\n",
       "  'quantity': 1.0,\n",
       "  'order_id': '1782462052091610788',\n",
       "  'client_oid': 'buy_take_profit_order_test_0',\n",
       "  'create_time': 1630958308720,\n",
       "  'update_time': 1630958308722,\n",
       "  'type': 'TAKE_PROFIT_LIMIT',\n",
       "  'instrument_name': 'DOGE_USDT',\n",
       "  'avg_price': 0.0,\n",
       "  'cumulative_quantity': 0.0,\n",
       "  'cumulative_value': 0.0,\n",
       "  'fee_currency': 'DOGE',\n",
       "  'exec_inst': '',\n",
       "  'time_in_force': 'GOOD_TILL_CANCEL',\n",
       "  'trigger_price': 0.3}]"
      ]
     },
     "execution_count": 93,
     "metadata": {},
     "output_type": "execute_result"
    }
   ],
   "source": []
  },
  {
   "cell_type": "code",
   "execution_count": null,
   "metadata": {},
   "outputs": [],
   "source": []
  }
 ],
 "metadata": {
  "kernelspec": {
   "display_name": "Python 3",
   "language": "python",
   "name": "python3"
  },
  "language_info": {
   "codemirror_mode": {
    "name": "ipython",
    "version": 3
   },
   "file_extension": ".py",
   "mimetype": "text/x-python",
   "name": "python",
   "nbconvert_exporter": "python",
   "pygments_lexer": "ipython3",
   "version": "3.7.4"
  }
 },
 "nbformat": 4,
 "nbformat_minor": 4
}
